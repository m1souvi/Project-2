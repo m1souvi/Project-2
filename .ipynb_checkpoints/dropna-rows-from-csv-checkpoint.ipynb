{
 "cells": [
  {
   "cell_type": "code",
   "execution_count": 1,
   "metadata": {},
   "outputs": [],
   "source": [
    "# import pandas module \n",
    "import pandas as pd "
   ]
  },
  {
   "cell_type": "code",
   "execution_count": 2,
   "metadata": {},
   "outputs": [],
   "source": [
    "# make data frame from csv file \n",
    "data = pd.read_csv(\"data/continuousgroundwatermonthly.csv\") "
   ]
  },
  {
   "cell_type": "code",
   "execution_count": 3,
   "metadata": {},
   "outputs": [],
   "source": [
    "# make new data frame with dropped NA rows\n",
    "new_data = data.dropna(axis = 0, how ='any') "
   ]
  },
  {
   "cell_type": "code",
   "execution_count": 4,
   "metadata": {},
   "outputs": [
    {
     "name": "stdout",
     "output_type": "stream",
     "text": [
      "Old data frame length: 59924 \n",
      "New data frame length: 48810 \n",
      "Number of rows with at least 1 NA value:  11114\n"
     ]
    }
   ],
   "source": [
    "# compare sizes of data frames \n",
    "print(\"Old data frame length:\", len(data), \"\\nNew data frame length:\",  \n",
    "       len(new_data), \"\\nNumber of rows with at least 1 NA value: \", \n",
    "       (len(data)-len(new_data))) "
   ]
  },
  {
   "cell_type": "code",
   "execution_count": null,
   "metadata": {},
   "outputs": [],
   "source": [
    "# drop rows with \"255\" or \"170\""
   ]
  },
  {
   "cell_type": "code",
   "execution_count": 8,
   "metadata": {},
   "outputs": [
    {
     "name": "stdout",
     "output_type": "stream",
     "text": [
      "             STATION   MSMT_DATE  WLM_RPE  WLM_RPE_QC  WLM_GSE  WLM_GSE_QC  \\\n",
      "0      01N04E36Q001M  2005-05-01      9.1           1      6.9           1   \n",
      "1      01N04E36Q001M  2005-06-01      9.1           1      6.9           1   \n",
      "2      01N04E36Q001M  2005-07-01      9.1           1      6.9           1   \n",
      "3      01N04E36Q001M  2005-08-01      9.1           1      6.9           1   \n",
      "4      01N04E36Q001M  2005-09-01      9.1           1      6.9           1   \n",
      "...              ...         ...      ...         ...      ...         ...   \n",
      "59919  48N05E36A002M  2003-01-01   4140.0           1   4138.5           1   \n",
      "59920  48N05E36A002M  2003-02-01   4140.0           1   4138.5           1   \n",
      "59921  48N05E36A002M  2003-03-01   4140.0           1   4138.5           1   \n",
      "59922  48N05E36A002M  2003-04-01   4140.0           1   4138.5           1   \n",
      "59923  48N05E36A002M  2003-05-01   4140.0           1   4138.5           1   \n",
      "\n",
      "       RPE_WSE  RPE_WSE_QC  GSE_WSE  GSE_WSE_QC       WSE  WSE_QC  \n",
      "0        17.44           1   15.238           1    -8.338       1  \n",
      "1        17.33           1   15.130           1    -8.230       1  \n",
      "2        17.36           1   15.161           1    -8.261       1  \n",
      "3        17.51           1   15.313           1    -8.413       1  \n",
      "4        17.89           1   15.690           1    -8.790       1  \n",
      "...        ...         ...      ...         ...       ...     ...  \n",
      "59919   124.67           1  123.170           1  4015.300       1  \n",
      "59920   124.48           1  122.980           1  4015.500       1  \n",
      "59921      NaN         151      NaN         151       NaN     151  \n",
      "59922      NaN         151      NaN         151       NaN     151  \n",
      "59923      NaN         151      NaN         151       NaN     151  \n",
      "\n",
      "[59924 rows x 12 columns]\n"
     ]
    }
   ],
   "source": [
    "# make csv from data frame\n",
    "new_data.to_csv(\"data\\cont-gw-mthly-dropna.csv\", index=None, header=True)"
   ]
  },
  {
   "cell_type": "code",
   "execution_count": null,
   "metadata": {},
   "outputs": [],
   "source": []
  }
 ],
 "metadata": {
  "kernelspec": {
   "display_name": "Python 3.6.9 64-bit ('PythonData': conda)",
   "language": "python",
   "name": "python36964bitpythondataconda0fb454ac77614e848f2d7a067d2f6121"
  },
  "language_info": {
   "codemirror_mode": {
    "name": "ipython",
    "version": 3
   },
   "file_extension": ".py",
   "mimetype": "text/x-python",
   "name": "python",
   "nbconvert_exporter": "python",
   "pygments_lexer": "ipython3",
   "version": "3.6.9"
  }
 },
 "nbformat": 4,
 "nbformat_minor": 4
}
