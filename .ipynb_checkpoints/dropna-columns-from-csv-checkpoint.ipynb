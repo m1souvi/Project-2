{
 "cells": [
  {
   "cell_type": "code",
   "execution_count": 10,
   "metadata": {},
   "outputs": [],
   "source": [
    "# import pandas module \n",
    "import pandas as pd "
   ]
  },
  {
   "cell_type": "code",
   "execution_count": 11,
   "metadata": {},
   "outputs": [],
   "source": [
    "# make data frame from csv file \n",
    "df1 = pd.read_csv(\"data/gwlstations.csv\") "
   ]
  },
  {
   "cell_type": "code",
   "execution_count": 12,
   "metadata": {},
   "outputs": [],
   "source": [
    "# make a copy of old data frame \n",
    "df2 = pd.read_csv(\"data/gwlstations.csv\") "
   ]
  },
  {
   "cell_type": "code",
   "execution_count": 13,
   "metadata": {},
   "outputs": [],
   "source": [
    "# create a value with all null values in copy data frame \n",
    "df2[\"Null Column\"]= None"
   ]
  },
  {
   "cell_type": "code",
   "execution_count": 14,
   "metadata": {},
   "outputs": [
    {
     "name": "stdout",
     "output_type": "stream",
     "text": [
      "['STATION' 'SITE_CODE' 'STNAME' 'WELL_NAME' 'LATITUDE' 'LONGITUDE'\n",
      " 'LLDATUM' 'POSACC' 'ELEV' 'ELEVDATUM' 'ELEVACC' 'COUNTY_NAME'\n",
      " 'BASIN_CODE' 'BASIN_NAME' 'WELL_DEPTH' 'WELL_USE' 'WELL_TYPE' 'WCR_NO'\n",
      " 'WDL' 'COMMENT'] \n",
      " ['STATION' 'SITE_CODE' 'STNAME' 'WELL_NAME' 'LATITUDE' 'LONGITUDE'\n",
      " 'LLDATUM' 'POSACC' 'ELEV' 'ELEVDATUM' 'ELEVACC' 'COUNTY_NAME'\n",
      " 'BASIN_CODE' 'BASIN_NAME' 'WELL_DEPTH' 'WELL_USE' 'WELL_TYPE' 'WCR_NO'\n",
      " 'WDL' 'COMMENT' 'Null Column']\n"
     ]
    }
   ],
   "source": [
    "# check if column is inserted properly  \n",
    "print(df1.columns.values, \"\\n\", df2.columns.values) "
   ]
  },
  {
   "cell_type": "code",
   "execution_count": 15,
   "metadata": {},
   "outputs": [
    {
     "name": "stdout",
     "output_type": "stream",
     "text": [
      "\n",
      "Column number before dropping Null column\n",
      " 20 21\n"
     ]
    }
   ],
   "source": [
    "# compare values before dropping null column \n",
    "print(\"\\nColumn number before dropping Null column\\n\", \n",
    "       len(df1.dtypes), len(df2.dtypes)) "
   ]
  },
  {
   "cell_type": "code",
   "execution_count": 16,
   "metadata": {},
   "outputs": [],
   "source": [
    "# drop columns with any null values \n",
    "df2.dropna(axis = 1, how ='any', inplace = True) "
   ]
  },
  {
   "cell_type": "code",
   "execution_count": 17,
   "metadata": {},
   "outputs": [
    {
     "name": "stdout",
     "output_type": "stream",
     "text": [
      "\n",
      "Column number after dropping Null column\n",
      " 20 10\n"
     ]
    }
   ],
   "source": [
    "# compare values after dropping null columns \n",
    "print(\"\\nColumn number after dropping Null column\\n\", \n",
    "      len(df1.dtypes), len(df2.dtypes)) "
   ]
  },
  {
   "cell_type": "code",
   "execution_count": 18,
   "metadata": {},
   "outputs": [],
   "source": [
    "# make csv from data frame\n",
    "df2.to_csv(\"data\\gwlstations-dropna.csv\", index=None, header=True)"
   ]
  },
  {
   "cell_type": "code",
   "execution_count": null,
   "metadata": {},
   "outputs": [],
   "source": []
  }
 ],
 "metadata": {
  "kernelspec": {
   "display_name": "Python 3.6.9 64-bit ('PythonData': conda)",
   "language": "python",
   "name": "python36964bitpythondataconda0fb454ac77614e848f2d7a067d2f6121"
  },
  "language_info": {
   "codemirror_mode": {
    "name": "ipython",
    "version": 3
   },
   "file_extension": ".py",
   "mimetype": "text/x-python",
   "name": "python",
   "nbconvert_exporter": "python",
   "pygments_lexer": "ipython3",
   "version": "3.6.9"
  }
 },
 "nbformat": 4,
 "nbformat_minor": 4
}
